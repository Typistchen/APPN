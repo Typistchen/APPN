{
 "cells": [
  {
   "cell_type": "code",
   "execution_count": 1,
   "metadata": {},
   "outputs": [],
   "source": [
    "import numpy as np\n",
    "import matplotlib.pyplot as plt\n",
    "from PIL import Image\n",
    "import torch\n",
    "import torch.nn as nn\n",
    "import random\n",
    "import os\n",
    "import json\n",
    "from PIL import Image\n",
    "import os\n",
    "import random\n",
    "import torch\n",
    "from torchvision import transforms\n"
   ]
  },
  {
   "attachments": {},
   "cell_type": "markdown",
   "metadata": {},
   "source": [
    "计算与原型的距离"
   ]
  },
  {
   "cell_type": "code",
   "execution_count": 7,
   "metadata": {},
   "outputs": [
    {
     "name": "stdout",
     "output_type": "stream",
     "text": [
      "tensor([[0.0254, 0.0317, 0.0366],\n",
      "        [0.0054, 0.0085, 0.0112]])\n",
      "tensor([[0.3314, 0.3335, 0.3351],\n",
      "        [0.3323, 0.3334, 0.3343]])\n"
     ]
    }
   ],
   "source": [
    "def pairwise_distances(x: torch.Tensor,\n",
    "                       y: torch.Tensor,\n",
    "                       matching_fn: str) -> torch.Tensor:\n",
    "    EPSILON = 1e-8\n",
    "    \"\"\"Efficiently calculate pairwise distances (or other similarity scores) between\n",
    "    two sets of samples.\n",
    "\n",
    "    # Arguments\n",
    "        x: Query samples. A tensor of shape (n_x, d) where d is the embedding dimension\n",
    "        y: Class prototypes. A tensor of shape (n_y, d) where d is the embedding dimension\n",
    "        matching_fn: Distance metric/similarity score to compute between samples\n",
    "    \"\"\"\n",
    "    n_x = x.shape[0]\n",
    "    n_y = y.shape[0]\n",
    "\n",
    "    if matching_fn == 'l2':\n",
    "        x = x.unsqueeze(1)\n",
    "        y = y.unsqueeze(0)\n",
    "        x = x.expand(n_x, n_y, -1)\n",
    "        y = y.expand(n_x, n_y, -1)\n",
    "        distances = (\n",
    "                x - y\n",
    "                \n",
    "        ).pow(2).sum(dim=2)\n",
    "        return distances\n",
    "    elif matching_fn == 'cosine':\n",
    "        normalised_x = x / (x.pow(2).sum(dim=1, keepdim=True).sqrt() + EPSILON)\n",
    "        normalised_y = y / (y.pow(2).sum(dim=1, keepdim=True).sqrt() + EPSILON)\n",
    "\n",
    "        expanded_x = normalised_x.unsqueeze(1).expand(n_x, n_y, -1)\n",
    "        expanded_y = normalised_y.unsqueeze(0).expand(n_x, n_y, -1)\n",
    "\n",
    "        cosine_similarities = (expanded_x * expanded_y).sum(dim=2)\n",
    "        return 1 - cosine_similarities\n",
    "    elif matching_fn == 'dot':\n",
    "        expanded_x = x.unsqueeze(1).expand(n_x, n_y, -1)\n",
    "        expanded_y = y.unsqueeze(0).expand(n_x, n_y, -1)\n",
    "\n",
    "        return -(expanded_x * expanded_y).sum(dim=2)\n",
    "    else:\n",
    "        raise(ValueError('Unsupported similarity function'))\n",
    "    \n",
    "x = torch.tensor([[1, 2, 3],[2,3,4]])\n",
    "y = torch.tensor([[4, 5, 6],[5,6,7],[6,7,8]])\n",
    "\n",
    "dis = pairwise_distances(x, y, \"cosine\")\n",
    "print(dis)\n",
    "dis_soft = nn.Softmax(dim=-1)(dis)\n",
    "print(dis_soft)\n",
    "    "
   ]
  },
  {
   "attachments": {},
   "cell_type": "markdown",
   "metadata": {},
   "source": [
    "计算原型"
   ]
  },
  {
   "cell_type": "code",
   "execution_count": null,
   "metadata": {},
   "outputs": [],
   "source": [
    "#生成一个随机的 3D 数据\n",
    "data = np.random.rand(360, 1, 105, 105)\n",
    "\n",
    "# 将 3D 数据转化为图片\n",
    "data_reshaped = data.reshape((360, 105, 105, 1)).transpose((0, 2, 1, 3))\n",
    "\n",
    "for i in range(2):    \n",
    "    plt.imshow(data_reshaped[i], interpolation='nearest')\n",
    "    path = \"test_p\" + \"/output\" + str(i) + '.png'\n",
    "    plt.savefig(path) # 保存图像到output.png文件中"
   ]
  },
  {
   "cell_type": "code",
   "execution_count": null,
   "metadata": {},
   "outputs": [],
   "source": [
    "#计算原型\n",
    "# 创建大小为(6, 4)的支持集张量\n",
    "support = torch.tensor([\n",
    "    [1, 2, 3, 4],\n",
    "    [5, 6, 7, 8],\n",
    "    [9, 10, 11, 12],\n",
    "    [13, 14, 15, 16],\n",
    "    [17, 18, 19, 20],\n",
    "    [21, 22, 23, 24]\n",
    "])\n",
    "\n",
    "# 将支持集张量重塑为大小为(3, 2, 4)的三维张量，表示每个类别有两个样本\n",
    "class_prototypes = support.reshape(3, 2, 4)\n",
    "print(class_prototypes)\n",
    "\n",
    "# 求和方式为：[6,4]前两个为一组，求平均依次往下\n",
    "class_prototypes = support.reshape(3, 2, -1).float().mean(dim=1)\n",
    "print(class_prototypes)\n"
   ]
  },
  {
   "attachments": {},
   "cell_type": "markdown",
   "metadata": {},
   "source": [
    "计算对数loss"
   ]
  },
  {
   "cell_type": "code",
   "execution_count": null,
   "metadata": {},
   "outputs": [],
   "source": [
    "# 计算loss\n",
    "# 创建一个大小为4x3的模型输出张量，并随机初始化\n",
    "input = torch.randn(4, 3).cuda()\n",
    "# 创建一个大小为4的张量，表示每个样本的真实类别标签,这个4与4*3的4相对应\n",
    "target = torch.tensor([0, 1, 2, 1]).cuda() \n",
    "\n",
    "# 创建NLLLoss对象并将其移动到GPU上\n",
    "loss_fn = nn.NLLLoss().cuda()\n",
    "\n",
    "# 计算损失\n",
    "loss = loss_fn(input, target)\n",
    "print(loss)\n",
    "# tensor(-0.0223, device='cuda:0')"
   ]
  },
  {
   "attachments": {},
   "cell_type": "markdown",
   "metadata": {},
   "source": [
    "计算距离值"
   ]
  },
  {
   "cell_type": "code",
   "execution_count": 2,
   "metadata": {},
   "outputs": [
    {
     "name": "stdout",
     "output_type": "stream",
     "text": [
      "torch.Size([2, 3])\n",
      "2 3\n",
      "a tensor([[[1, 2, 3]],\n",
      "\n",
      "        [[2, 3, 4]]]) a_size torch.Size([2, 1, 3])\n",
      "b tensor([[[4, 5, 6],\n",
      "         [5, 6, 7],\n",
      "         [6, 7, 8]]]) b_size torch.Size([1, 3, 3])\n",
      "a tensor([[[1, 2, 3],\n",
      "         [1, 2, 3],\n",
      "         [1, 2, 3]],\n",
      "\n",
      "        [[2, 3, 4],\n",
      "         [2, 3, 4],\n",
      "         [2, 3, 4]]]) a_size torch.Size([2, 3, 3])\n",
      "b tensor([[[4, 5, 6],\n",
      "         [5, 6, 7],\n",
      "         [6, 7, 8]],\n",
      "\n",
      "        [[4, 5, 6],\n",
      "         [5, 6, 7],\n",
      "         [6, 7, 8]]]) b_size torch.Size([2, 3, 3])\n",
      "c tensor([[[-3, -3, -3],\n",
      "         [-4, -4, -4],\n",
      "         [-5, -5, -5]],\n",
      "\n",
      "        [[-2, -2, -2],\n",
      "         [-3, -3, -3],\n",
      "         [-4, -4, -4]]]) c_size torch.Size([2, 3, 3])\n",
      "tensor([[27, 48, 75],\n",
      "        [12, 27, 48]])\n",
      "torch.Size([2, 3])\n"
     ]
    }
   ],
   "source": [
    "# #计算距离\n",
    "x = torch.tensor([[1, 2, 3],[2,3,4]])\n",
    "y = torch.tensor([[4, 5, 6],[5,6,7],[6,7,8]])\n",
    "print(x.shape)\n",
    "\n",
    "n_x = x.shape[0]\n",
    "n_y = y.shape[0]\n",
    "print(n_x, n_y)\n",
    "a = x.unsqueeze(1) # [2,1,3]\n",
    "b = y.unsqueeze(0) # [1,3,3]\n",
    "print(\"a\",a, \"a_size\",a.shape) \n",
    "print(\"b\",b, \"b_size\",b.shape)\n",
    "\n",
    "a = a.expand(n_x, n_y, -1) # [2,3,3]\n",
    "b = b.expand(n_x, n_y, -1) # [2,3,3]\n",
    "\n",
    "print(\"a\",a, \"a_size\",a.shape)\n",
    "print(\"b\",b, \"b_size\",b.shape)\n",
    "\n",
    "c =  a -b\n",
    "\n",
    "print(\"c\",c, \"c_size\",c.shape)\n",
    "distances = (\n",
    "    c\n",
    ").pow(2).sum(dim=2)\n",
    "\n",
    "print(distances)\n",
    "print(distances.shape)"
   ]
  },
  {
   "attachments": {},
   "cell_type": "markdown",
   "metadata": {},
   "source": [
    "用复数对数计算softmax的值"
   ]
  },
  {
   "cell_type": "code",
   "execution_count": null,
   "metadata": {},
   "outputs": [],
   "source": [
    "# 计算负数对数值，配合torch.nn.NLLLoss().cuda() 这个loss进行使用\n",
    "distances = torch.tensor([[ 1.2, -0.5,  3.1,  0.7],\n",
    "                          [ 2.3,  1.1, -0.8,  2.5],\n",
    "                          [-1.8,  0.6,  2.0, -0.4]])\n",
    "\n",
    "log_p_y = (-distances).log_softmax(dim=1)\n",
    "\n",
    "y_pred = (-distances).softmax(dim=1)\n",
    "#与下面这两行的作用是一样的\n",
    "# p_y = torch.exp(log_p_y)\n",
    "# p_y = p_y / p_y.sum(dim=1, keepdim=True)\n",
    "\n",
    "print(y_pred)"
   ]
  },
  {
   "attachments": {},
   "cell_type": "markdown",
   "metadata": {},
   "source": [
    "类内加噪声"
   ]
  },
  {
   "cell_type": "code",
   "execution_count": null,
   "metadata": {},
   "outputs": [],
   "source": [
    "# add noise \n",
    "import torch\n",
    "n_way = 4\n",
    "k_shot = 5\n",
    "col1 = np.arange(1, 21)\n",
    "# 生成等差数列\n",
    "col2 = np.arange(0, 40, 2)\n",
    "# 生成随机数\n",
    "col3 = np.random.random_sample(20)\n",
    "# 将三个列组合成一个数组\n",
    "data = np.column_stack((col1, col2, col3))\n",
    "data = torch.Tensor(data)\n",
    "noise_idxes = []\n",
    "for i in range(n_way):\n",
    "    noise_idxes.append(k_shot * i  + random.randint(0, 4))\n",
    "print(noise_idxes)\n",
    "temp = data[noise_idxes[0]]\n",
    "for i in range(len(noise_idxes)-1):\n",
    "    data[noise_idxes[i]] = data[noise_idxes[i+1]]\n",
    "data[noise_idxes[-1]] = temp\n",
    "print(data)"
   ]
  },
  {
   "attachments": {},
   "cell_type": "markdown",
   "metadata": {},
   "source": [
    "解压文件"
   ]
  },
  {
   "cell_type": "code",
   "execution_count": 3,
   "metadata": {},
   "outputs": [],
   "source": [
    "import zipfile\n",
    " \n",
    "f = zipfile.ZipFile(\"/home/dsz/Documents/cjq/few-shot-master/tieredImagenet.zip\",'r') # 压缩文件位置\n",
    "for a in f.namelist():\n",
    "    f.extract(a)     "
   ]
  },
  {
   "attachments": {},
   "cell_type": "markdown",
   "metadata": {},
   "source": [
    "将文件夹名字作为key，图片名字作为value形成json文件"
   ]
  },
  {
   "cell_type": "code",
   "execution_count": 3,
   "metadata": {},
   "outputs": [],
   "source": [
    "# 写多个文件的图片为字典的json\n",
    "# 设置图片文件夹路径\n",
    "image_folder = '/home/dsz/Documents/cjq/few-shot-master/data/miniImageNet/test'\n",
    "\n",
    "# 获取所有子文件夹的名称\n",
    "subfolders = [f.name for f in os.scandir(image_folder) if f.is_dir()]\n",
    "\n",
    "# 创建字典，保存每个子文件夹下的图片名\n",
    "image_names = {}\n",
    "for subfolder in subfolders:\n",
    "    image_names[subfolder] = [f.name for f in os.scandir(os.path.join(image_folder, subfolder)) if f.is_file() and f.name.endswith('.jpg')]\n",
    "\n",
    "# 将字典保存为JSON文件\n",
    "with open('tieredImagenet_test.json', 'w') as f:\n",
    "    json.dump(image_names, f)"
   ]
  },
  {
   "attachments": {},
   "cell_type": "markdown",
   "metadata": {},
   "source": [
    "读取某个文件夹中有多少张图片"
   ]
  },
  {
   "cell_type": "code",
   "execution_count": null,
   "metadata": {},
   "outputs": [],
   "source": [
    "import os\n",
    "# 指定要读取的文件夹路径\n",
    "folder_path = 'data/miniImageNet/images_background/n01532829'\n",
    "\n",
    "# 获取文件夹中所有文件的列表\n",
    "file_list = os.listdir(folder_path)\n",
    "\n",
    "# 统计图片数量\n",
    "image_count = 0\n",
    "for filename in file_list:\n",
    "    # 判断文件是否为图片\n",
    "    if filename.endswith('.jpg') or filename.endswith('.png'):\n",
    "        # 使用OpenCV读取图片\n",
    "        \n",
    "        # 判断是否成功读取图片\n",
    "        \n",
    "        image_count += 1\n",
    "\n",
    "# 输出图片数量\n",
    "print('There are', image_count, 'images in the folder.')\n"
   ]
  },
  {
   "attachments": {},
   "cell_type": "markdown",
   "metadata": {},
   "source": [
    "将制定目录下的文件夹名字写成json"
   ]
  },
  {
   "cell_type": "code",
   "execution_count": null,
   "metadata": {},
   "outputs": [],
   "source": [
    "# 写入json\n",
    "# 指定目录路径\n",
    "path = '/home/dsz/cjq/few-shot-master/data/cifar/data'\n",
    "\n",
    "# 获取目录下的所有文件名\n",
    "files = os.listdir(path)\n",
    "\n",
    "# 构建字典对象\n",
    "data = {'files': files}\n",
    "\n",
    "# 将数据保存为JSON格式文件\n",
    "with open('data.json', 'w') as file:\n",
    "    json.dump(data, file)"
   ]
  },
  {
   "attachments": {},
   "cell_type": "markdown",
   "metadata": {},
   "source": [
    "打开json文件并读取其中的文件"
   ]
  },
  {
   "cell_type": "code",
   "execution_count": null,
   "metadata": {},
   "outputs": [],
   "source": [
    "# 1. 打开JSON文件并读取其内容\n",
    "with open('/home/dsz/cjq/few-shot-master_copy/image_names.json') as f:\n",
    "    data = json.load(f)\n",
    "selected_images = []\n",
    "key = list(data.keys()) # 读取键值\n",
    "random_images = random.sample(key, 2)\n",
    "print(random_images)\n",
    "for key_name in random_images:\n",
    "    picture_name = random.sample(data[key_name], 2)\n",
    "    for picname in picture_name:\n",
    "        path = \"/home/dsz/cjq/few-shot-master_copy/data/cifar/data/\" + key_name + '/' + picname\n",
    "        image = Image.open(path)\n",
    "        \n",
    "        transform = transforms.Compose([\n",
    "    transforms.ToTensor(),\n",
    "])\n",
    "\n",
    "        tensor_image = transform(image)\n",
    "        selected_images.append(tensor_image)\n",
    "        print(selected_images)"
   ]
  },
  {
   "attachments": {},
   "cell_type": "markdown",
   "metadata": {},
   "source": [
    "去掉重复元素并去除指定元素"
   ]
  },
  {
   "cell_type": "code",
   "execution_count": null,
   "metadata": {},
   "outputs": [],
   "source": [
    "# 将JSON数据保存为列表\n",
    "shanchu = ['baby', 'tulip', 'chair','baby', 'tulip', 'chair']\n",
    "shanchu = list(set(shanchu)) # 去掉重复元素\n",
    "print(shanchu)\n",
    "cifar_class = data['files'] \n",
    "for i in shanchu:\n",
    "    cifar_class.remove(i) # 删除指定元素\n",
    "print(cifar_class)"
   ]
  },
  {
   "attachments": {},
   "cell_type": "markdown",
   "metadata": {},
   "source": [
    "读取txt文件的内容并放入list中"
   ]
  },
  {
   "cell_type": "code",
   "execution_count": 1,
   "metadata": {},
   "outputs": [
    {
     "name": "stdout",
     "output_type": "stream",
     "text": [
      "['baby', 'bed', 'bicycle', 'chimpanzee', 'fox', 'leopard', 'man', 'pickup_truck', 'plain', 'poppy', 'rocket', 'rose', 'snail', 'sweet_pepper', 'table', 'telephone', 'wardrobe', 'whale', 'woman', 'worm']\n"
     ]
    }
   ],
   "source": [
    "file_path = \"data/cifar/splits/test.txt\"  # 替换为你的文件路径\n",
    "\n",
    "# 打开文件并读取内容\n",
    "with open(file_path, \"r\") as file:\n",
    "    content = file.readlines()\n",
    "\n",
    "# 清除每行末尾的换行符\n",
    "content = [line.strip() for line in content]\n",
    "\n",
    "# 输出结果\n",
    "print(content)\n"
   ]
  },
  {
   "attachments": {},
   "cell_type": "markdown",
   "metadata": {},
   "source": [
    "将指定的子文件夹下的文件移动到另外一个文件夹中"
   ]
  },
  {
   "cell_type": "code",
   "execution_count": 2,
   "metadata": {},
   "outputs": [
    {
     "data": {
      "text/plain": [
       "'test_cifar/apple'"
      ]
     },
     "execution_count": 2,
     "metadata": {},
     "output_type": "execute_result"
    }
   ],
   "source": [
    "import os\n",
    "import shutil\n",
    "\n",
    "# 指定要移动的子文件夹名称和父文件夹路径\n",
    "subfolder_name = \"apple\"\n",
    "parent_folder_path = \"/home/dsz/cjq/few-shot-master/data/cifar/data/\"\n",
    "\n",
    "# 指定目标文件夹路径\n",
    "target_folder_path = \"\"\n",
    "\n",
    "# 构建要移动的子文件夹路径\n",
    "subfolder_path = os.path.join(parent_folder_path, subfolder_name)\n",
    "\n",
    "# 移动子文件夹到目标文件夹\n",
    "shutil.move(subfolder_path, target_folder_path)\n"
   ]
  },
  {
   "cell_type": "code",
   "execution_count": 3,
   "metadata": {},
   "outputs": [
    {
     "name": "stdout",
     "output_type": "stream",
     "text": [
      "tensor([[-0.1948, -0.3733,  0.6323,  3.2292,  0.4945],\n",
      "        [-0.7991,  0.2717, -0.8119, -0.7337, -0.3301],\n",
      "        [-0.4061, -0.4935, -0.9675,  0.9846, -0.3000],\n",
      "        [ 1.3734, -0.5422, -2.4368,  0.8250,  0.4890],\n",
      "        [-0.6326,  0.6252, -1.0499,  0.8693, -0.7584]])\n",
      "tensor([[ 0.0000, 19.2523,  8.2884, 17.6877, 11.1577],\n",
      "        [19.2523,  0.0000,  3.7179, 11.1226,  2.9624],\n",
      "        [ 8.2884,  3.7179,  0.0000,  5.9756,  1.5330],\n",
      "        [17.6877, 11.1226,  5.9756,  0.0000,  8.8684],\n",
      "        [11.1577,  2.9624,  1.5330,  8.8684,  0.0000]])\n"
     ]
    }
   ],
   "source": [
    "from few_shot.only_graph import pairwise_distances\n",
    "import torch\n",
    "\n",
    "a = torch.randn(5,5)\n",
    "print(a)\n",
    "k = 5\n",
    "w = pairwise_distances(a, a, \"l2\")\n",
    "print(w)\n"
   ]
  },
  {
   "cell_type": "code",
   "execution_count": 2,
   "metadata": {},
   "outputs": [
    {
     "name": "stdout",
     "output_type": "stream",
     "text": [
      "Images saved successfully!\n"
     ]
    }
   ],
   "source": [
    "import torch\n",
    "from torchvision import transforms\n",
    "from PIL import Image\n",
    "\n",
    "# 假设您有一个形状为 (100, 3, 84, 84) 的张量 image_tensor\n",
    "# image_tensor = ...\n",
    "\n",
    "# 创建保存图片的文件夹\n",
    "import os\n",
    "output_folder = \"output_images\"\n",
    "os.makedirs(output_folder, exist_ok=True)\n",
    "\n",
    "# 将张量批次中的所有图像转换为图片并保存\n",
    "def tensors_to_images(tensor_batch, output_folder):\n",
    "    # 创建转换器，用于反转标准化\n",
    "    transform = transforms.Compose([\n",
    "        # transforms.Normalize((-1, -1, -1), (2, 2, 2)),  # 反转标准化，将(-1,1)范围转换为(0,255)\n",
    "        transforms.ToPILImage()  # 转换为PIL图片对象\n",
    "    ])\n",
    "    \n",
    "    num_images = tensor_batch.size(0)  # 获取图像的数量\n",
    "    for i in range(num_images):\n",
    "        image = tensor_batch[i]  # 获取当前图像\n",
    "        image_pil = transform(image)  # 转换为PIL图片\n",
    "        image_pil.save(os.path.join(output_folder, f\"image_{i}.png\"))  # 保存图片\n",
    "\n",
    "# 将张量批次中的所有图像转换为图片并保存\n",
    "image = torch.randn(10,3,84,84)\n",
    "tensors_to_images(image, output_folder)\n",
    "\n",
    "print(\"Images saved successfully!\")\n"
   ]
  },
  {
   "cell_type": "code",
   "execution_count": null,
   "metadata": {},
   "outputs": [],
   "source": [
    "from few_shot.gnn import calculate_distance_sum, group_normalize, calculate_weighted_proto\n",
    "\n",
    "scale = []\n",
    "n_way = 2\n",
    "k_shot = 2\n",
    "a = [[1,2,3], [6,7,8], [1,3,5], [2,4,6]]\n",
    "for way in range(n_way):\n",
    "                temp = a[way]\n",
    "                for shot in range(k_shot):\n",
    "                    distance_sum = calculate_distance_sum(temp, shot)\n",
    "                    scale.append(distance_sum)"
   ]
  },
  {
   "cell_type": "code",
   "execution_count": 9,
   "metadata": {},
   "outputs": [
    {
     "name": "stdout",
     "output_type": "stream",
     "text": [
      "tensor([[0.7000, 0.7000, 0.7000],\n",
      "        [1.5000, 1.5000, 1.5000]])\n"
     ]
    }
   ],
   "source": [
    "import torch\n",
    "\n",
    "# 创建矩阵\n",
    "matrix1  = torch.tensor([ 0.5, 0.2,0.1, 0.4])\n",
    "matrix2 = torch.tensor([[ 1, 1,1], [2,2,2], [3,3,3], [4,4,4]])\n",
    "\n",
    "def calculate_weighted_proto(scale, embedings, n_way, k_shot):\n",
    "    emb_proto = torch.empty(n_way, embedings.shape[-1])\n",
    "    scale = scale.reshape(n_way,-1)\n",
    "    embedings = embedings.reshape(n_way,-1)\n",
    "    scale = scale\n",
    "    for way in range(n_way) :\n",
    "        for shot in range(k_shot):\n",
    "            emb_proto[way] += scale[way,shot] * embedings[way,shot]\n",
    "        \n",
    "    return emb_proto\n",
    "emb_prot = calculate_weighted_proto(matrix1,matrix2,2,2)\n",
    "print(emb_prot)"
   ]
  },
  {
   "cell_type": "code",
   "execution_count": 12,
   "metadata": {},
   "outputs": [
    {
     "name": "stdout",
     "output_type": "stream",
     "text": [
      "tensor([[0., 1., 4., 9.],\n",
      "        [1., 0., 1., 4.]], dtype=torch.float64)\n"
     ]
    }
   ],
   "source": [
    "x  = torch.tensor([[ 1, 1,1],[2,2,2]]).double()\n",
    "y = torch.tensor([[ 1, 1,1], [2,2,2], [3,3,3], [4,4,4]]).double()\n",
    "\n",
    "x = x.unsqueeze(1)\n",
    "y = y.unsqueeze(0)\n",
    "distances = ((\n",
    "                x - y\n",
    "                \n",
    "        )**2).mean(2)\n",
    "print(distances)"
   ]
  },
  {
   "cell_type": "code",
   "execution_count": 2,
   "metadata": {},
   "outputs": [],
   "source": [
    "zero_pad = torch.zeros((5, 5, 5)).fill_(1.0/5) \n",
    "print(zero_pad)"
   ]
  },
  {
   "cell_type": "code",
   "execution_count": 2,
   "metadata": {},
   "outputs": [
    {
     "data": {
      "image/png": "[encoded data removed]",
      "text/plain": [
       "<Figure size 800x800 with 2 Axes>"
      ]
     },
     "metadata": {},
     "output_type": "display_data"
    }
   ],
   "source": [
    "from PIL import Image\n",
    "import matplotlib.pyplot as plt\n",
    "\n",
    "# 打开图像\n",
    "image_path = \"data/cifar/test/baby/babe_s_000193.png\"  # 替换为你的图像文件路径\n",
    "original_image = Image.open(image_path)\n",
    "\n",
    "# 调整图像大小为84x84\n",
    "new_size = (84, 84)\n",
    "resized_image = original_image.resize(new_size)\n",
    "\n",
    "# 显示原始图像\n",
    "plt.figure(figsize=(8, 8))\n",
    "plt.subplot(1, 2, 1)\n",
    "plt.imshow(original_image)\n",
    "plt.title(\"Original Image\")\n",
    "\n",
    "# 显示调整大小后的图像\n",
    "plt.subplot(1, 2, 2)\n",
    "plt.imshow(resized_image)\n",
    "plt.title(\"Resized Image (84x84)\")\n",
    "plt.show()\n"
   ]
  },
  {
   "cell_type": "code",
   "execution_count": 2,
   "metadata": {},
   "outputs": [
    {
     "name": "stdout",
     "output_type": "stream",
     "text": [
      "tensor([[ 6,  8],\n",
      "        [10, 12]])\n"
     ]
    }
   ],
   "source": [
    "import torch\n",
    "\n",
    "# 创建两个矩阵\n",
    "matrix1 = torch.tensor([[1, 2], [3, 4]])\n",
    "matrix2 = torch.tensor([[5, 6], [7, 8]])\n",
    "\n",
    "# 对应元素相加\n",
    "result = matrix1 + matrix2\n",
    "\n",
    "print(result)"
   ]
  },
  {
   "cell_type": "code",
   "execution_count": null,
   "metadata": {},
   "outputs": [],
   "source": [
    "import torch\n",
    "import torch.nn.functional as F\n",
    "\n",
    "# 创建示例张量\n",
    "tensor = torch.tensor([[1.0, 2.0, 3.0],\n",
    "                       [4.0, 5.0, 6.0]])\n",
    "\n",
    "# 对张量的行进行归一化\n",
    "normalized_tensor = F.normalize(tensor, p=2, dim=1)\n",
    "\n",
    "print(normalized_tensor)"
   ]
  },
  {
   "cell_type": "code",
   "execution_count": 3,
   "metadata": {},
   "outputs": [
    {
     "name": "stdout",
     "output_type": "stream",
     "text": [
      "[tensor([[1, 2, 3, 4, 5]]), tensor([[ 6,  7,  8,  9, 10]]), tensor([[11, 12, 13, 14, 15]]), tensor([[16, 17, 18, 19, 20]]), tensor([[21, 22, 23, 24, 25]])]\n"
     ]
    }
   ],
   "source": [
    "import torch\n",
    "\n",
    "# 创建一个 (5, 5) 的示例 Tensor\n",
    "original_tensor = torch.tensor([[1, 2, 3, 4, 5],\n",
    "                                [6, 7, 8, 9, 10],\n",
    "                                [11, 12, 13, 14, 15],\n",
    "                                [16, 17, 18, 19, 20],\n",
    "                                [21, 22, 23, 24, 25]])\n",
    "\n",
    "# 使用循环拆分成五个子 Tensor\n",
    "sub_tensors = [original_tensor[i:i+1, :] for i in range(5)]\n",
    "\n",
    "\n",
    "print(sub_tensors)\n"
   ]
  }
 ],
 "metadata": {
  "kernelspec": {
   "display_name": "c_pytorch",
   "language": "python",
   "name": "python3"
  },
  "language_info": {
   "codemirror_mode": {
    "name": "ipython",
    "version": 3
   },
   "file_extension": ".py",
   "mimetype": "text/x-python",
   "name": "python",
   "nbconvert_exporter": "python",
   "pygments_lexer": "ipython3",
   "version": "3.11.3"
  },
  "orig_nbformat": 4
 },
 "nbformat": 4,
 "nbformat_minor": 2
}
